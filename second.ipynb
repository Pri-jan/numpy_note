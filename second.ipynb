{
 "cells": [
  {
   "cell_type": "markdown",
   "id": "d786ef4e-7462-4ea3-9c0c-42c21dc3f577",
   "metadata": {},
   "source": [
    "# welcome to numpy tutorial"
   ]
  },
  {
   "cell_type": "code",
   "execution_count": 1,
   "id": "14e3c8e9-4a1d-4de9-bb24-16ec68d1354e",
   "metadata": {},
   "outputs": [],
   "source": [
    "import numpy as np"
   ]
  },
  {
   "cell_type": "code",
   "execution_count": 2,
   "id": "dbcbfddc-b784-4306-bf16-8930fb858c54",
   "metadata": {},
   "outputs": [],
   "source": [
    "myarray=np.array([1 , 3 ,5 , 75 ,8]  , np.int8)"
   ]
  },
  {
   "cell_type": "code",
   "execution_count": 3,
   "id": "a655daf8-3eeb-495a-8a57-7eda69aeaf8d",
   "metadata": {},
   "outputs": [
    {
     "data": {
      "text/plain": [
       "array([ 1,  3,  5, 75,  8], dtype=int8)"
      ]
     },
     "execution_count": 3,
     "metadata": {},
     "output_type": "execute_result"
    }
   ],
   "source": [
    "myarray"
   ]
  },
  {
   "cell_type": "code",
   "execution_count": 4,
   "id": "21565a0d-df3d-41b9-80b6-c04920e78884",
   "metadata": {},
   "outputs": [
    {
     "data": {
      "text/plain": [
       "dtype('int8')"
      ]
     },
     "execution_count": 4,
     "metadata": {},
     "output_type": "execute_result"
    }
   ],
   "source": [
    "myarray.dtype"
   ]
  },
  {
   "cell_type": "code",
   "execution_count": 5,
   "id": "45a996f6-b33f-4bd2-8ceb-83cbc508c722",
   "metadata": {},
   "outputs": [
    {
     "data": {
      "text/plain": [
       "(5,)"
      ]
     },
     "execution_count": 5,
     "metadata": {},
     "output_type": "execute_result"
    }
   ],
   "source": [
    "myarray.shape\n"
   ]
  },
  {
   "cell_type": "code",
   "execution_count": 6,
   "id": "3503c7c4-ab96-4ead-90ef-fd86c3e9dd90",
   "metadata": {},
   "outputs": [
    {
     "data": {
      "text/plain": [
       "5"
      ]
     },
     "execution_count": 6,
     "metadata": {},
     "output_type": "execute_result"
    }
   ],
   "source": [
    "myarray[2]"
   ]
  },
  {
   "cell_type": "markdown",
   "id": "e3f93b76-6142-4cf8-99a6-b10f3b0662e6",
   "metadata": {},
   "source": [
    "# array creation: conversion from other python structure"
   ]
  },
  {
   "cell_type": "code",
   "execution_count": 7,
   "id": "e0115d4c-141f-49b7-936e-dc8fae08ce8b",
   "metadata": {},
   "outputs": [],
   "source": [
    "listarray=np.array([[1 , 3 , 5 , 7] , [2 , 3 , 4 , 6 ] , [1 , 2 , 8 , 9]])"
   ]
  },
  {
   "cell_type": "code",
   "execution_count": 8,
   "id": "87af79f3-84ea-48e4-aec9-bb81bbc3f50b",
   "metadata": {},
   "outputs": [
    {
     "data": {
      "text/plain": [
       "array([[1, 3, 5, 7],\n",
       "       [2, 3, 4, 6],\n",
       "       [1, 2, 8, 9]])"
      ]
     },
     "execution_count": 8,
     "metadata": {},
     "output_type": "execute_result"
    }
   ],
   "source": [
    "listarray"
   ]
  },
  {
   "cell_type": "code",
   "execution_count": 9,
   "id": "555943e3-1253-4ccd-8a79-89e5e289c2f4",
   "metadata": {},
   "outputs": [
    {
     "data": {
      "text/plain": [
       "(3, 4)"
      ]
     },
     "execution_count": 9,
     "metadata": {},
     "output_type": "execute_result"
    }
   ],
   "source": [
    "listarray.shape\n"
   ]
  },
  {
   "cell_type": "code",
   "execution_count": 10,
   "id": "f6c86afc-008f-4136-9817-51ab88ce7300",
   "metadata": {},
   "outputs": [
    {
     "data": {
      "text/plain": [
       "12"
      ]
     },
     "execution_count": 10,
     "metadata": {},
     "output_type": "execute_result"
    }
   ],
   "source": [
    "listarray.size"
   ]
  },
  {
   "cell_type": "code",
   "execution_count": 11,
   "id": "c3176cc9-5880-48d7-a57c-0e3c5d459da6",
   "metadata": {},
   "outputs": [
    {
     "data": {
      "text/plain": [
       "dtype('int32')"
      ]
     },
     "execution_count": 11,
     "metadata": {},
     "output_type": "execute_result"
    }
   ],
   "source": [
    "listarray.dtype"
   ]
  },
  {
   "cell_type": "code",
   "execution_count": 12,
   "id": "91ae72c6-f688-4b2d-b2b6-9bc8430fe5e1",
   "metadata": {},
   "outputs": [],
   "source": [
    "listarray[1 , 2]=45"
   ]
  },
  {
   "cell_type": "code",
   "execution_count": 13,
   "id": "42d90640-9a0e-436b-a942-af6f95200ec6",
   "metadata": {},
   "outputs": [
    {
     "data": {
      "text/plain": [
       "array([[ 1,  3,  5,  7],\n",
       "       [ 2,  3, 45,  6],\n",
       "       [ 1,  2,  8,  9]])"
      ]
     },
     "execution_count": 13,
     "metadata": {},
     "output_type": "execute_result"
    }
   ],
   "source": [
    "listarray"
   ]
  },
  {
   "cell_type": "code",
   "execution_count": 14,
   "id": "4437e843-d983-468a-9200-e4c2994496d1",
   "metadata": {},
   "outputs": [
    {
     "data": {
      "text/plain": [
       "8"
      ]
     },
     "execution_count": 14,
     "metadata": {},
     "output_type": "execute_result"
    }
   ],
   "source": [
    "listarray[2 , 2]"
   ]
  },
  {
   "cell_type": "markdown",
   "id": "2839f815-6b41-4d0b-a872-f93a8263df3f",
   "metadata": {},
   "source": [
    "# Intrinsic NumPy array creation functions"
   ]
  },
  {
   "cell_type": "code",
   "execution_count": 15,
   "id": "289a7c2e-1826-46c9-82d3-6dd76bfdc9cd",
   "metadata": {},
   "outputs": [],
   "source": [
    "zeros=np.zeros((2 , 4))\n"
   ]
  },
  {
   "cell_type": "code",
   "execution_count": 16,
   "id": "b55701ff-3374-43db-8983-d3b533a26c0a",
   "metadata": {},
   "outputs": [
    {
     "data": {
      "text/plain": [
       "array([[0., 0., 0., 0.],\n",
       "       [0., 0., 0., 0.]])"
      ]
     },
     "execution_count": 16,
     "metadata": {},
     "output_type": "execute_result"
    }
   ],
   "source": [
    "zeros"
   ]
  },
  {
   "cell_type": "code",
   "execution_count": 17,
   "id": "fbb0b205-7076-4a55-bf18-97203fdb7bca",
   "metadata": {},
   "outputs": [],
   "source": [
    "rng = np.arange(2 , 45) "
   ]
  },
  {
   "cell_type": "code",
   "execution_count": 18,
   "id": "8e7628f0-ca3a-4365-9108-437b06352347",
   "metadata": {},
   "outputs": [
    {
     "data": {
      "text/plain": [
       "array([ 2,  3,  4,  5,  6,  7,  8,  9, 10, 11, 12, 13, 14, 15, 16, 17, 18,\n",
       "       19, 20, 21, 22, 23, 24, 25, 26, 27, 28, 29, 30, 31, 32, 33, 34, 35,\n",
       "       36, 37, 38, 39, 40, 41, 42, 43, 44])"
      ]
     },
     "execution_count": 18,
     "metadata": {},
     "output_type": "execute_result"
    }
   ],
   "source": [
    "rng"
   ]
  },
  {
   "cell_type": "code",
   "execution_count": 19,
   "id": "cbb549c8-5652-4c5c-b9ba-307f813b3fee",
   "metadata": {},
   "outputs": [],
   "source": [
    "lspace=np.linspace(2 , 5 , num=5)"
   ]
  },
  {
   "cell_type": "markdown",
   "id": "66d49805-60ef-4591-bf18-abdd99b904ec",
   "metadata": {},
   "source": [
    "** The num=5 parameter in np.linspace(2, 5, num=5) means we want to create 5 equally spaced numbers between 2 and 5. Imagine we have a line starting from 2 and ending at 5. We want to divide this line into 5 equal parts, and the numbers we get at the points where we made these divisions are the values in the array lspace *\n"
   ]
  },
  {
   "cell_type": "code",
   "execution_count": 20,
   "id": "315ebf4e-b94f-4c24-aa55-5cecb38174d4",
   "metadata": {},
   "outputs": [
    {
     "data": {
      "text/plain": [
       "array([2.  , 2.75, 3.5 , 4.25, 5.  ])"
      ]
     },
     "execution_count": 20,
     "metadata": {},
     "output_type": "execute_result"
    }
   ],
   "source": [
    "lspace"
   ]
  },
  {
   "cell_type": "code",
   "execution_count": 21,
   "id": "df164646-f0f1-4f29-bf8d-0d63a6ef2ee5",
   "metadata": {},
   "outputs": [],
   "source": [
    "emp=np.empty((3 ,4 ))"
   ]
  },
  {
   "cell_type": "code",
   "execution_count": 22,
   "id": "7ea68f9b-17de-4374-918b-f7fbab4fc49e",
   "metadata": {},
   "outputs": [
    {
     "data": {
      "text/plain": [
       "array([[1.29506834e-311, 2.47032823e-322, 0.00000000e+000,\n",
       "        0.00000000e+000],\n",
       "       [1.11260619e-306, 5.64233733e-067, 7.73444956e-091,\n",
       "        1.17713297e-047],\n",
       "       [3.57280452e-062, 1.52079024e-051, 3.99910963e+252,\n",
       "        8.34402701e-309]])"
      ]
     },
     "execution_count": 22,
     "metadata": {},
     "output_type": "execute_result"
    }
   ],
   "source": [
    "emp"
   ]
  },
  {
   "cell_type": "code",
   "execution_count": 23,
   "id": "ba74f8d6-b190-4c8d-9db6-bb91d488006c",
   "metadata": {},
   "outputs": [],
   "source": [
    "emp_like=np.empty_like(lspace)"
   ]
  },
  {
   "cell_type": "code",
   "execution_count": 24,
   "id": "d4dedcbd-5a84-4bf0-ba2f-0e3d8396f5a5",
   "metadata": {},
   "outputs": [
    {
     "data": {
      "text/plain": [
       "array([2.  , 2.75, 3.5 , 4.25, 5.  ])"
      ]
     },
     "execution_count": 24,
     "metadata": {},
     "output_type": "execute_result"
    }
   ],
   "source": [
    "emp_like"
   ]
  },
  {
   "cell_type": "code",
   "execution_count": 25,
   "id": "97706ba0-a672-4d97-bfe5-85a04ca8ea07",
   "metadata": {},
   "outputs": [],
   "source": [
    "p_aray=np.array([[2 , 5 , 6 ,22] , [1 , 3 , 5 , 6]])"
   ]
  },
  {
   "cell_type": "code",
   "execution_count": 26,
   "id": "7c276245-e353-4c6c-9dc9-5ea43c168300",
   "metadata": {},
   "outputs": [],
   "source": [
    "p_like=np.empty_like(p_aray)"
   ]
  },
  {
   "cell_type": "code",
   "execution_count": 27,
   "id": "82585552-d049-4174-8c9b-3c7ce5354a4f",
   "metadata": {},
   "outputs": [
    {
     "data": {
      "text/plain": [
       "array([[       1,        1,        0,      610],\n",
       "       [    1164,        0, 16777984,    32762]])"
      ]
     },
     "execution_count": 27,
     "metadata": {},
     "output_type": "execute_result"
    }
   ],
   "source": [
    "p_like"
   ]
  },
  {
   "cell_type": "code",
   "execution_count": 28,
   "id": "fc1cb31a-7ec0-4903-a7c9-2625f9081954",
   "metadata": {},
   "outputs": [],
   "source": [
    "ide=np.identity(40)"
   ]
  },
  {
   "cell_type": "code",
   "execution_count": 29,
   "id": "d0a8bb33-3767-432c-9f6f-a2f66434f8ac",
   "metadata": {},
   "outputs": [
    {
     "data": {
      "text/plain": [
       "array([[1., 0., 0., ..., 0., 0., 0.],\n",
       "       [0., 1., 0., ..., 0., 0., 0.],\n",
       "       [0., 0., 1., ..., 0., 0., 0.],\n",
       "       ...,\n",
       "       [0., 0., 0., ..., 1., 0., 0.],\n",
       "       [0., 0., 0., ..., 0., 1., 0.],\n",
       "       [0., 0., 0., ..., 0., 0., 1.]])"
      ]
     },
     "execution_count": 29,
     "metadata": {},
     "output_type": "execute_result"
    }
   ],
   "source": [
    "ide"
   ]
  },
  {
   "cell_type": "code",
   "execution_count": 30,
   "id": "26a0aa72-9171-49f7-8f7f-ba126d840c8f",
   "metadata": {},
   "outputs": [],
   "source": [
    "arr=np.arange(100)"
   ]
  },
  {
   "cell_type": "code",
   "execution_count": 31,
   "id": "3c507720-9886-4c9e-8ea9-f398d677e5be",
   "metadata": {},
   "outputs": [
    {
     "data": {
      "text/plain": [
       "array([ 0,  1,  2,  3,  4,  5,  6,  7,  8,  9, 10, 11, 12, 13, 14, 15, 16,\n",
       "       17, 18, 19, 20, 21, 22, 23, 24, 25, 26, 27, 28, 29, 30, 31, 32, 33,\n",
       "       34, 35, 36, 37, 38, 39, 40, 41, 42, 43, 44, 45, 46, 47, 48, 49, 50,\n",
       "       51, 52, 53, 54, 55, 56, 57, 58, 59, 60, 61, 62, 63, 64, 65, 66, 67,\n",
       "       68, 69, 70, 71, 72, 73, 74, 75, 76, 77, 78, 79, 80, 81, 82, 83, 84,\n",
       "       85, 86, 87, 88, 89, 90, 91, 92, 93, 94, 95, 96, 97, 98, 99])"
      ]
     },
     "execution_count": 31,
     "metadata": {},
     "output_type": "execute_result"
    }
   ],
   "source": [
    "arr\n"
   ]
  },
  {
   "cell_type": "code",
   "execution_count": 32,
   "id": "96d3d054-de26-4c8a-afbd-42684e98a3c1",
   "metadata": {},
   "outputs": [],
   "source": [
    "arr = arr.reshape(4 ,25)"
   ]
  },
  {
   "cell_type": "code",
   "execution_count": 33,
   "id": "e2204ac6-d14e-485f-ab80-9cbff9ac696b",
   "metadata": {},
   "outputs": [
    {
     "data": {
      "text/plain": [
       "array([[ 0,  1,  2,  3,  4,  5,  6,  7,  8,  9, 10, 11, 12, 13, 14, 15,\n",
       "        16, 17, 18, 19, 20, 21, 22, 23, 24],\n",
       "       [25, 26, 27, 28, 29, 30, 31, 32, 33, 34, 35, 36, 37, 38, 39, 40,\n",
       "        41, 42, 43, 44, 45, 46, 47, 48, 49],\n",
       "       [50, 51, 52, 53, 54, 55, 56, 57, 58, 59, 60, 61, 62, 63, 64, 65,\n",
       "        66, 67, 68, 69, 70, 71, 72, 73, 74],\n",
       "       [75, 76, 77, 78, 79, 80, 81, 82, 83, 84, 85, 86, 87, 88, 89, 90,\n",
       "        91, 92, 93, 94, 95, 96, 97, 98, 99]])"
      ]
     },
     "execution_count": 33,
     "metadata": {},
     "output_type": "execute_result"
    }
   ],
   "source": [
    "arr"
   ]
  },
  {
   "cell_type": "code",
   "execution_count": 34,
   "id": "4105a11a-120b-4105-9772-9eb94ba7412c",
   "metadata": {},
   "outputs": [
    {
     "data": {
      "text/plain": [
       "(4, 25)"
      ]
     },
     "execution_count": 34,
     "metadata": {},
     "output_type": "execute_result"
    }
   ],
   "source": [
    "arr.shape"
   ]
  },
  {
   "cell_type": "code",
   "execution_count": 35,
   "id": "79da7251-fa14-4327-bd57-be4ca3ce01df",
   "metadata": {},
   "outputs": [],
   "source": [
    "arr=arr.ravel()"
   ]
  },
  {
   "cell_type": "code",
   "execution_count": 36,
   "id": "a2cef847-a2ca-43b4-a977-17dacc75b08d",
   "metadata": {},
   "outputs": [
    {
     "data": {
      "text/plain": [
       "array([ 0,  1,  2,  3,  4,  5,  6,  7,  8,  9, 10, 11, 12, 13, 14, 15, 16,\n",
       "       17, 18, 19, 20, 21, 22, 23, 24, 25, 26, 27, 28, 29, 30, 31, 32, 33,\n",
       "       34, 35, 36, 37, 38, 39, 40, 41, 42, 43, 44, 45, 46, 47, 48, 49, 50,\n",
       "       51, 52, 53, 54, 55, 56, 57, 58, 59, 60, 61, 62, 63, 64, 65, 66, 67,\n",
       "       68, 69, 70, 71, 72, 73, 74, 75, 76, 77, 78, 79, 80, 81, 82, 83, 84,\n",
       "       85, 86, 87, 88, 89, 90, 91, 92, 93, 94, 95, 96, 97, 98, 99])"
      ]
     },
     "execution_count": 36,
     "metadata": {},
     "output_type": "execute_result"
    }
   ],
   "source": [
    "arr\n"
   ]
  },
  {
   "cell_type": "code",
   "execution_count": 37,
   "id": "f714d5a8-d8f5-4f90-aeb2-9770dfdef586",
   "metadata": {},
   "outputs": [
    {
     "data": {
      "text/plain": [
       "(100,)"
      ]
     },
     "execution_count": 37,
     "metadata": {},
     "output_type": "execute_result"
    }
   ],
   "source": [
    "arr.shape"
   ]
  },
  {
   "cell_type": "markdown",
   "id": "aa55253f-8d38-4aa7-9555-9af782aa9f4c",
   "metadata": {},
   "source": [
    "# numpy axis "
   ]
  },
  {
   "cell_type": "code",
   "execution_count": 38,
   "id": "26d52950-cc63-4611-8f52-b5e2777d28fb",
   "metadata": {},
   "outputs": [],
   "source": [
    "x =[[1 , 2 , 3 ,4] , [5 ,6 ,7 , 8 ] , [9 , 10 , 11 , 12]]"
   ]
  },
  {
   "cell_type": "code",
   "execution_count": 39,
   "id": "94eb5413-4080-42d6-ac55-d79631753968",
   "metadata": {},
   "outputs": [],
   "source": [
    "ar=np.array(x)"
   ]
  },
  {
   "cell_type": "code",
   "execution_count": 40,
   "id": "5526348c-51b0-4f2e-96df-a11f0612d8c0",
   "metadata": {},
   "outputs": [
    {
     "data": {
      "text/plain": [
       "array([[ 1,  2,  3,  4],\n",
       "       [ 5,  6,  7,  8],\n",
       "       [ 9, 10, 11, 12]])"
      ]
     },
     "execution_count": 40,
     "metadata": {},
     "output_type": "execute_result"
    }
   ],
   "source": [
    "ar"
   ]
  },
  {
   "cell_type": "code",
   "execution_count": 41,
   "id": "8c6a9ed5-84df-48c3-beac-554737381b50",
   "metadata": {},
   "outputs": [
    {
     "data": {
      "text/plain": [
       "array([15, 18, 21, 24])"
      ]
     },
     "execution_count": 41,
     "metadata": {},
     "output_type": "execute_result"
    }
   ],
   "source": [
    "ar.sum(axis=0)"
   ]
  },
  {
   "cell_type": "code",
   "execution_count": 42,
   "id": "35d8d1bb-ff97-476b-8714-9a9eb078ce5b",
   "metadata": {},
   "outputs": [
    {
     "data": {
      "text/plain": [
       "array([10, 26, 42])"
      ]
     },
     "execution_count": 42,
     "metadata": {},
     "output_type": "execute_result"
    }
   ],
   "source": [
    "ar.sum(axis=1)"
   ]
  },
  {
   "cell_type": "markdown",
   "id": "c819525d-89ec-45dd-97a1-e3d9ca7e94cc",
   "metadata": {},
   "source": [
    "# numpy methods and atrributes in one dimensional"
   ]
  },
  {
   "cell_type": "markdown",
   "id": "ca59cbbf-bebb-486c-a7e9-0c15742eaef0",
   "metadata": {},
   "source": [
    "<em> transposing colum to row and row to column</em>"
   ]
  },
  {
   "cell_type": "code",
   "execution_count": 43,
   "id": "14af29f2-5c8a-43d1-a3c2-cb69c5d09a00",
   "metadata": {},
   "outputs": [
    {
     "data": {
      "text/plain": [
       "array([[ 1,  5,  9],\n",
       "       [ 2,  6, 10],\n",
       "       [ 3,  7, 11],\n",
       "       [ 4,  8, 12]])"
      ]
     },
     "execution_count": 43,
     "metadata": {},
     "output_type": "execute_result"
    }
   ],
   "source": [
    "ar.T"
   ]
  },
  {
   "cell_type": "markdown",
   "id": "5abbadc0-962c-432b-93e1-e16d38a93772",
   "metadata": {},
   "source": [
    "# Itreator in numpy"
   ]
  },
  {
   "cell_type": "markdown",
   "id": "01911494-3f0e-4c2f-88a6-ed22139cbeed",
   "metadata": {},
   "source": [
    "<em> (.flat} is used to iterate in numpy</em>"
   ]
  },
  {
   "cell_type": "code",
   "execution_count": 44,
   "id": "872e9624-3f01-43d9-a58c-1a0ae483ae45",
   "metadata": {},
   "outputs": [],
   "source": [
    "x=[[1 , 2 , 3 ,5] , [4 ,5  ,7 , 74]]"
   ]
  },
  {
   "cell_type": "code",
   "execution_count": 45,
   "id": "d5dd8a1f-63e9-4b47-a849-a4865d65787a",
   "metadata": {},
   "outputs": [],
   "source": [
    "ara=np.array(x)"
   ]
  },
  {
   "cell_type": "code",
   "execution_count": 46,
   "id": "74d2724c-cf0c-4025-af45-b0c21b7b9953",
   "metadata": {},
   "outputs": [
    {
     "name": "stdout",
     "output_type": "stream",
     "text": [
      "1\n",
      "2\n",
      "3\n",
      "5\n",
      "4\n",
      "5\n",
      "7\n",
      "74\n"
     ]
    }
   ],
   "source": [
    "for item in ara.flat:\n",
    "    print(item)"
   ]
  },
  {
   "cell_type": "code",
   "execution_count": 47,
   "id": "c7db4e50-7830-4a8e-b5b2-df09df96effc",
   "metadata": {},
   "outputs": [
    {
     "data": {
      "text/plain": [
       "2"
      ]
     },
     "execution_count": 47,
     "metadata": {},
     "output_type": "execute_result"
    }
   ],
   "source": [
    "ara.ndim"
   ]
  },
  {
   "cell_type": "code",
   "execution_count": 48,
   "id": "5f7d22a3-e1a4-4500-bc78-da1796239812",
   "metadata": {},
   "outputs": [
    {
     "data": {
      "text/plain": [
       "8"
      ]
     },
     "execution_count": 48,
     "metadata": {},
     "output_type": "execute_result"
    }
   ],
   "source": [
    "ara.size"
   ]
  },
  {
   "cell_type": "markdown",
   "id": "07724e4b-8bb2-41a9-bbbc-ca1497290495",
   "metadata": {},
   "source": [
    "<em> this nbytes shows total bytes comsumed by an array </em>"
   ]
  },
  {
   "cell_type": "code",
   "execution_count": 49,
   "id": "ad52dc0c-597c-4cb6-b574-7cd9ecebb49e",
   "metadata": {},
   "outputs": [
    {
     "data": {
      "text/plain": [
       "32"
      ]
     },
     "execution_count": 49,
     "metadata": {},
     "output_type": "execute_result"
    }
   ],
   "source": [
    "ara.nbytes"
   ]
  },
  {
   "cell_type": "code",
   "execution_count": 50,
   "id": "eccb891c-d4d0-49e8-8e5c-375611068d52",
   "metadata": {},
   "outputs": [
    {
     "data": {
      "text/plain": [
       "dtype('int32')"
      ]
     },
     "execution_count": 50,
     "metadata": {},
     "output_type": "execute_result"
    }
   ],
   "source": [
    "ara.dtype"
   ]
  },
  {
   "cell_type": "code",
   "execution_count": 51,
   "id": "495ceccb-d8f3-47d4-bb10-8a062e0c1b4d",
   "metadata": {},
   "outputs": [],
   "source": [
    "one=np.array([11 , 45 , 15 ,6])"
   ]
  },
  {
   "cell_type": "code",
   "execution_count": 52,
   "id": "d50bfa48-5d72-4b99-a880-657372d79223",
   "metadata": {},
   "outputs": [
    {
     "data": {
      "text/plain": [
       "1"
      ]
     },
     "execution_count": 52,
     "metadata": {},
     "output_type": "execute_result"
    }
   ],
   "source": [
    "one.argmax()"
   ]
  },
  {
   "cell_type": "markdown",
   "id": "32868e9b-d548-4cd6-81a3-59f55dceb69d",
   "metadata": {},
   "source": [
    "<em> argmax() returns the position(indices) of a maximum value in an array </em>"
   ]
  },
  {
   "cell_type": "code",
   "execution_count": 53,
   "id": "cf5ebaaa-c082-49f6-941d-2a7c035dd40c",
   "metadata": {},
   "outputs": [
    {
     "data": {
      "text/plain": [
       "3"
      ]
     },
     "execution_count": 53,
     "metadata": {},
     "output_type": "execute_result"
    }
   ],
   "source": [
    "one.argmin()"
   ]
  },
  {
   "cell_type": "code",
   "execution_count": 54,
   "id": "34e595a6-b7fb-4c74-a43b-46db5bc5752d",
   "metadata": {},
   "outputs": [
    {
     "data": {
      "text/plain": [
       "array([3, 0, 2, 1], dtype=int64)"
      ]
     },
     "execution_count": 54,
     "metadata": {},
     "output_type": "execute_result"
    }
   ],
   "source": [
    "one.argsort()"
   ]
  },
  {
   "cell_type": "markdown",
   "id": "51253cbf-cfda-419f-90e7-1f37ef6ac378",
   "metadata": {},
   "source": [
    "# numpy methods and atrributes in two dimensional"
   ]
  },
  {
   "cell_type": "code",
   "execution_count": 55,
   "id": "3b083eb2-41ee-4bc2-9f72-a7eb2031a741",
   "metadata": {},
   "outputs": [],
   "source": [
    "two=[[9 ,  4 ,6 ,7] , [4 ,5 ,6 , 7] , [ 4, 2 , 3 ,2]]"
   ]
  },
  {
   "cell_type": "code",
   "execution_count": 56,
   "id": "9d752f1b-cab4-4551-9150-732e703e17eb",
   "metadata": {},
   "outputs": [],
   "source": [
    "twar=np.array(two)"
   ]
  },
  {
   "cell_type": "code",
   "execution_count": 57,
   "id": "94f7e964-1ebc-43d6-a97a-462c4660af73",
   "metadata": {
    "scrolled": true
   },
   "outputs": [
    {
     "data": {
      "text/plain": [
       "array([[9, 4, 6, 7],\n",
       "       [4, 5, 6, 7],\n",
       "       [4, 2, 3, 2]])"
      ]
     },
     "execution_count": 57,
     "metadata": {},
     "output_type": "execute_result"
    }
   ],
   "source": [
    "twar"
   ]
  },
  {
   "cell_type": "code",
   "execution_count": 58,
   "id": "d5fd9ac1-b6d7-41dc-9592-bed2e6f629dd",
   "metadata": {},
   "outputs": [
    {
     "data": {
      "text/plain": [
       "9"
      ]
     },
     "execution_count": 58,
     "metadata": {},
     "output_type": "execute_result"
    }
   ],
   "source": [
    "twar.argmin()"
   ]
  },
  {
   "cell_type": "code",
   "execution_count": 59,
   "id": "61ae4e42-34a1-479f-a478-8b58d328efbc",
   "metadata": {},
   "outputs": [
    {
     "data": {
      "text/plain": [
       "0"
      ]
     },
     "execution_count": 59,
     "metadata": {},
     "output_type": "execute_result"
    }
   ],
   "source": [
    "twar.argmax()"
   ]
  },
  {
   "cell_type": "code",
   "execution_count": 60,
   "id": "75fe03f2-a46b-45b5-a32f-608d9b985f6c",
   "metadata": {},
   "outputs": [
    {
     "data": {
      "text/plain": [
       "array([0, 1, 0, 0], dtype=int64)"
      ]
     },
     "execution_count": 60,
     "metadata": {},
     "output_type": "execute_result"
    }
   ],
   "source": [
    "twar.argmax(axis=0)"
   ]
  },
  {
   "cell_type": "code",
   "execution_count": 61,
   "id": "7237f154-20c6-468d-98fd-f881edb7bad0",
   "metadata": {},
   "outputs": [
    {
     "data": {
      "text/plain": [
       "array([1, 0, 1], dtype=int64)"
      ]
     },
     "execution_count": 61,
     "metadata": {},
     "output_type": "execute_result"
    }
   ],
   "source": [
    "twar.argmin(axis=1)"
   ]
  },
  {
   "cell_type": "code",
   "execution_count": 62,
   "id": "c2f8e623-e41e-4358-9ad3-071766abc67f",
   "metadata": {},
   "outputs": [
    {
     "data": {
      "text/plain": [
       "array([[1, 2, 3, 0],\n",
       "       [0, 1, 2, 3],\n",
       "       [1, 3, 2, 0]], dtype=int64)"
      ]
     },
     "execution_count": 62,
     "metadata": {},
     "output_type": "execute_result"
    }
   ],
   "source": [
    "twar.argsort(axis=1)"
   ]
  },
  {
   "cell_type": "code",
   "execution_count": 63,
   "id": "bb4934e3-26d2-4548-a169-5a3a46aa2964",
   "metadata": {},
   "outputs": [
    {
     "data": {
      "text/plain": [
       "array([[1, 2, 2, 2],\n",
       "       [2, 0, 0, 0],\n",
       "       [0, 1, 1, 1]], dtype=int64)"
      ]
     },
     "execution_count": 63,
     "metadata": {},
     "output_type": "execute_result"
    }
   ],
   "source": [
    "twar.argsort(axis=0)"
   ]
  },
  {
   "cell_type": "code",
   "execution_count": 64,
   "id": "e88f1ab8-21eb-4b9c-b4f6-3d7b1c7da5d4",
   "metadata": {},
   "outputs": [
    {
     "data": {
      "text/plain": [
       "array([9, 4, 6, 7, 4, 5, 6, 7, 4, 2, 3, 2])"
      ]
     },
     "execution_count": 64,
     "metadata": {},
     "output_type": "execute_result"
    }
   ],
   "source": [
    "twar.ravel()"
   ]
  },
  {
   "cell_type": "code",
   "execution_count": 65,
   "id": "c8af96f4-5642-4766-9315-9368d007fca3",
   "metadata": {},
   "outputs": [
    {
     "data": {
      "text/plain": [
       "12"
      ]
     },
     "execution_count": 65,
     "metadata": {},
     "output_type": "execute_result"
    }
   ],
   "source": [
    "twar.size"
   ]
  },
  {
   "cell_type": "code",
   "execution_count": 66,
   "id": "d317f014-8207-442b-baed-edfcf9f39f35",
   "metadata": {},
   "outputs": [
    {
     "data": {
      "text/plain": [
       "array([[9],\n",
       "       [4],\n",
       "       [6],\n",
       "       [7],\n",
       "       [4],\n",
       "       [5],\n",
       "       [6],\n",
       "       [7],\n",
       "       [4],\n",
       "       [2],\n",
       "       [3],\n",
       "       [2]])"
      ]
     },
     "execution_count": 66,
     "metadata": {},
     "output_type": "execute_result"
    }
   ],
   "source": [
    "twar.reshape(12 , 1)"
   ]
  },
  {
   "cell_type": "code",
   "execution_count": 67,
   "id": "130726df-a5ab-4a23-9754-f2b9720a256f",
   "metadata": {},
   "outputs": [],
   "source": [
    "two2=[[0 ,  2 ,6 ,7] , [7 ,5 ,8 , 7] , [ 8, 2 , 4 ,2]]"
   ]
  },
  {
   "cell_type": "code",
   "execution_count": 68,
   "id": "118f2992-34ff-4bf3-b376-4120e6257d22",
   "metadata": {},
   "outputs": [],
   "source": [
    "twar2=np.array(two2)"
   ]
  },
  {
   "cell_type": "code",
   "execution_count": 69,
   "id": "8652a167-fd7a-4ca5-b246-9e65493f6181",
   "metadata": {},
   "outputs": [
    {
     "data": {
      "text/plain": [
       "array([[0, 2, 6, 7],\n",
       "       [7, 5, 8, 7],\n",
       "       [8, 2, 4, 2]])"
      ]
     },
     "execution_count": 69,
     "metadata": {},
     "output_type": "execute_result"
    }
   ],
   "source": [
    "twar2"
   ]
  },
  {
   "cell_type": "code",
   "execution_count": 70,
   "id": "dd13667d-4a94-4a4b-9b8f-05ffa8de5ac7",
   "metadata": {},
   "outputs": [
    {
     "data": {
      "text/plain": [
       "array([[9, 4, 6, 7],\n",
       "       [4, 5, 6, 7],\n",
       "       [4, 2, 3, 2]])"
      ]
     },
     "execution_count": 70,
     "metadata": {},
     "output_type": "execute_result"
    }
   ],
   "source": [
    "twar"
   ]
  },
  {
   "cell_type": "code",
   "execution_count": 71,
   "id": "8949faaa-0fee-470b-950e-f4fad1892e19",
   "metadata": {},
   "outputs": [
    {
     "data": {
      "text/plain": [
       "array([[ 9,  6, 12, 14],\n",
       "       [11, 10, 14, 14],\n",
       "       [12,  4,  7,  4]])"
      ]
     },
     "execution_count": 71,
     "metadata": {},
     "output_type": "execute_result"
    }
   ],
   "source": [
    "twar + twar2"
   ]
  },
  {
   "cell_type": "code",
   "execution_count": 72,
   "id": "b70b6179-ae31-4201-9525-af7ef25265cd",
   "metadata": {},
   "outputs": [
    {
     "data": {
      "text/plain": [
       "array([[ 0,  8, 36, 49],\n",
       "       [28, 25, 48, 49],\n",
       "       [32,  4, 12,  4]])"
      ]
     },
     "execution_count": 72,
     "metadata": {},
     "output_type": "execute_result"
    }
   ],
   "source": [
    "twar * twar2"
   ]
  },
  {
   "cell_type": "code",
   "execution_count": 73,
   "id": "597011b9-09e0-42e5-bc6b-153482d6c101",
   "metadata": {},
   "outputs": [
    {
     "data": {
      "text/plain": [
       "array([[3.        , 2.        , 2.44948974, 2.64575131],\n",
       "       [2.        , 2.23606798, 2.44948974, 2.64575131],\n",
       "       [2.        , 1.41421356, 1.73205081, 1.41421356]])"
      ]
     },
     "execution_count": 73,
     "metadata": {},
     "output_type": "execute_result"
    }
   ],
   "source": [
    "np.sqrt(twar)"
   ]
  },
  {
   "cell_type": "code",
   "execution_count": 74,
   "id": "431c692f-e9e9-469d-a768-656efbf8ae50",
   "metadata": {},
   "outputs": [
    {
     "data": {
      "text/plain": [
       "array([[9, 4, 6, 7],\n",
       "       [4, 5, 6, 7],\n",
       "       [4, 2, 3, 2]])"
      ]
     },
     "execution_count": 74,
     "metadata": {},
     "output_type": "execute_result"
    }
   ],
   "source": [
    "twar"
   ]
  },
  {
   "cell_type": "code",
   "execution_count": 75,
   "id": "c9d696d0-2ff9-4c63-9e04-b305966f7f5c",
   "metadata": {},
   "outputs": [
    {
     "data": {
      "text/plain": [
       "59"
      ]
     },
     "execution_count": 75,
     "metadata": {},
     "output_type": "execute_result"
    }
   ],
   "source": [
    "twar.sum()"
   ]
  },
  {
   "cell_type": "code",
   "execution_count": 76,
   "id": "f67c7a4f-4c1d-43d7-a7a8-5be2323e236e",
   "metadata": {},
   "outputs": [
    {
     "data": {
      "text/plain": [
       "9"
      ]
     },
     "execution_count": 76,
     "metadata": {},
     "output_type": "execute_result"
    }
   ],
   "source": [
    "twar.max()"
   ]
  },
  {
   "cell_type": "code",
   "execution_count": 77,
   "id": "245f4851-a75d-4215-973f-abced7ee8d2c",
   "metadata": {},
   "outputs": [
    {
     "data": {
      "text/plain": [
       "2"
      ]
     },
     "execution_count": 77,
     "metadata": {},
     "output_type": "execute_result"
    }
   ],
   "source": [
    "twar.min()"
   ]
  },
  {
   "cell_type": "markdown",
   "id": "ceee714d-cdc8-4c18-88f6-4fd450ffcb4c",
   "metadata": {},
   "source": [
    "# finding greater than given num in an array"
   ]
  },
  {
   "cell_type": "code",
   "execution_count": 78,
   "id": "50badf10-6e4f-447a-a303-fd889dd9237f",
   "metadata": {},
   "outputs": [
    {
     "data": {
      "text/plain": [
       "array([[9, 4, 6, 7],\n",
       "       [4, 5, 6, 7],\n",
       "       [4, 2, 3, 2]])"
      ]
     },
     "execution_count": 78,
     "metadata": {},
     "output_type": "execute_result"
    }
   ],
   "source": [
    "twar"
   ]
  },
  {
   "cell_type": "code",
   "execution_count": 79,
   "id": "f496215e-c043-4fc5-8cd2-e99c50b81951",
   "metadata": {},
   "outputs": [
    {
     "data": {
      "text/plain": [
       "(array([0, 0, 1], dtype=int64), array([0, 3, 3], dtype=int64))"
      ]
     },
     "execution_count": 79,
     "metadata": {},
     "output_type": "execute_result"
    }
   ],
   "source": [
    "np.where(twar > 6)"
   ]
  },
  {
   "cell_type": "code",
   "execution_count": 80,
   "id": "031bfc0c-523a-4f04-93b2-4bd584650b3e",
   "metadata": {},
   "outputs": [],
   "source": [
    "a=np.arange(0 , 10)"
   ]
  },
  {
   "cell_type": "code",
   "execution_count": 81,
   "id": "6975e605-6890-4e16-85c5-ff2a39893689",
   "metadata": {},
   "outputs": [
    {
     "name": "stdout",
     "output_type": "stream",
     "text": [
      "0\n",
      "1\n",
      "2\n",
      "3\n",
      "4\n",
      "5\n",
      "6\n",
      "7\n",
      "8\n",
      "9\n"
     ]
    }
   ],
   "source": [
    "for item in a:\n",
    "    print(item)"
   ]
  },
  {
   "cell_type": "code",
   "execution_count": 82,
   "id": "71c115bc-46ae-4dfe-88f7-401d3fe15592",
   "metadata": {},
   "outputs": [
    {
     "data": {
      "text/plain": [
       "(array([6, 7, 8, 9], dtype=int64),)"
      ]
     },
     "execution_count": 82,
     "metadata": {},
     "output_type": "execute_result"
    }
   ],
   "source": [
    "np.where(a >5 )"
   ]
  },
  {
   "cell_type": "code",
   "execution_count": 83,
   "id": "81240662-5dd0-4267-988a-2039ea42ccf1",
   "metadata": {},
   "outputs": [
    {
     "data": {
      "text/plain": [
       "12"
      ]
     },
     "execution_count": 83,
     "metadata": {},
     "output_type": "execute_result"
    }
   ],
   "source": [
    "np.count_nonzero(twar)"
   ]
  },
  {
   "cell_type": "code",
   "execution_count": 84,
   "id": "23a3e9d1-dd0e-4b72-83fc-9cb39a318730",
   "metadata": {},
   "outputs": [
    {
     "data": {
      "text/plain": [
       "array([[0, 2, 6, 7],\n",
       "       [7, 5, 8, 7],\n",
       "       [8, 2, 4, 2]])"
      ]
     },
     "execution_count": 84,
     "metadata": {},
     "output_type": "execute_result"
    }
   ],
   "source": [
    "twar2"
   ]
  },
  {
   "cell_type": "code",
   "execution_count": 85,
   "id": "58ddb8e0-18d6-4903-8103-bc6dad5ba320",
   "metadata": {},
   "outputs": [],
   "source": [
    "twar2[2 , 2 ]=0"
   ]
  },
  {
   "cell_type": "code",
   "execution_count": 86,
   "id": "25a2597e-745e-48f2-90a1-13b487a622ef",
   "metadata": {},
   "outputs": [
    {
     "data": {
      "text/plain": [
       "array([[0, 2, 6, 7],\n",
       "       [7, 5, 8, 7],\n",
       "       [8, 2, 0, 2]])"
      ]
     },
     "execution_count": 86,
     "metadata": {},
     "output_type": "execute_result"
    }
   ],
   "source": [
    "twar2"
   ]
  },
  {
   "cell_type": "code",
   "execution_count": 90,
   "id": "d6cd352d-9eed-4674-b7f8-07a8e26ba0b1",
   "metadata": {},
   "outputs": [
    {
     "data": {
      "text/plain": [
       "10"
      ]
     },
     "execution_count": 90,
     "metadata": {},
     "output_type": "execute_result"
    }
   ],
   "source": [
    "np.count_nonzero(twar2)"
   ]
  },
  {
   "cell_type": "markdown",
   "id": "50e7877e-8303-412a-963c-2d2d41f341db",
   "metadata": {},
   "source": [
    "<em> it counts non zero element in an array </em>"
   ]
  },
  {
   "cell_type": "code",
   "execution_count": 91,
   "id": "dd9f0a80-7365-428b-af3e-353be0e4d783",
   "metadata": {},
   "outputs": [
    {
     "data": {
      "text/plain": [
       "dtype('int32')"
      ]
     },
     "execution_count": 91,
     "metadata": {},
     "output_type": "execute_result"
    }
   ],
   "source": [
    "twar2.dtype"
   ]
  },
  {
   "cell_type": "code",
   "execution_count": 92,
   "id": "01d9d309-0162-4f77-983b-63105f6a6f12",
   "metadata": {},
   "outputs": [
    {
     "data": {
      "text/plain": [
       "array([[0, 2, 6, 7],\n",
       "       [7, 5, 8, 7],\n",
       "       [8, 2, 0, 2]])"
      ]
     },
     "execution_count": 92,
     "metadata": {},
     "output_type": "execute_result"
    }
   ],
   "source": [
    "twar2"
   ]
  },
  {
   "cell_type": "code",
   "execution_count": 93,
   "id": "43c649be-e74a-4eca-94cb-3cf571173105",
   "metadata": {},
   "outputs": [
    {
     "data": {
      "text/plain": [
       "array([[0, 2, 6, 7],\n",
       "       [7, 5, 8, 7],\n",
       "       [8, 2, 0, 2]])"
      ]
     },
     "execution_count": 93,
     "metadata": {},
     "output_type": "execute_result"
    }
   ],
   "source": [
    "np.real(twar2)"
   ]
  },
  {
   "cell_type": "code",
   "execution_count": 94,
   "id": "214ebef1-0312-4210-b866-73ef1ed66e01",
   "metadata": {},
   "outputs": [
    {
     "data": {
      "text/plain": [
       "array([0, 0, 2, 2], dtype=int64)"
      ]
     },
     "execution_count": 94,
     "metadata": {},
     "output_type": "execute_result"
    }
   ],
   "source": [
    "twar2.argmin(axis=0)"
   ]
  },
  {
   "cell_type": "markdown",
   "id": "e4dfc70c-ee02-484a-9b1a-87123ca86945",
   "metadata": {},
   "source": [
    "# generates a random ones arrary "
   ]
  },
  {
   "cell_type": "code",
   "execution_count": 97,
   "id": "134bf94d-d255-4826-962a-e52eed310251",
   "metadata": {},
   "outputs": [],
   "source": [
    "s=[2 ,2 ]"
   ]
  },
  {
   "cell_type": "code",
   "execution_count": 100,
   "id": "7f86390e-878b-4b84-b45e-d9851ff862f3",
   "metadata": {},
   "outputs": [],
   "source": [
    "one=np.ones(s)"
   ]
  },
  {
   "cell_type": "code",
   "execution_count": 101,
   "id": "3f8dd5ab-9f39-42af-9a58-1d6b20871ad7",
   "metadata": {},
   "outputs": [
    {
     "data": {
      "text/plain": [
       "array([[1., 1.],\n",
       "       [1., 1.]])"
      ]
     },
     "execution_count": 101,
     "metadata": {},
     "output_type": "execute_result"
    }
   ],
   "source": [
    "one"
   ]
  },
  {
   "cell_type": "markdown",
   "id": "45b777af-02c2-4e54-8dd2-8e50ca75e17a",
   "metadata": {},
   "source": [
    "# 1. indexing and slicing an array"
   ]
  },
  {
   "cell_type": "code",
   "execution_count": 102,
   "id": "0c6e750c-05ef-4d61-9172-01feb3d037b7",
   "metadata": {},
   "outputs": [
    {
     "data": {
      "text/plain": [
       "1.0"
      ]
     },
     "execution_count": 102,
     "metadata": {},
     "output_type": "execute_result"
    }
   ],
   "source": [
    "one[0 , 1]"
   ]
  },
  {
   "cell_type": "code",
   "execution_count": 103,
   "id": "bab34239-0a0f-419f-b291-d71196eb032d",
   "metadata": {},
   "outputs": [],
   "source": [
    "one[0 , 1]=2"
   ]
  },
  {
   "cell_type": "code",
   "execution_count": 104,
   "id": "e3175e63-4c87-4719-8ad1-3a64b797fd44",
   "metadata": {},
   "outputs": [
    {
     "data": {
      "text/plain": [
       "array([[1., 2.],\n",
       "       [1., 1.]])"
      ]
     },
     "execution_count": 104,
     "metadata": {},
     "output_type": "execute_result"
    }
   ],
   "source": [
    "one"
   ]
  },
  {
   "cell_type": "code",
   "execution_count": 107,
   "id": "7183f9f3-e3d0-4026-b60b-6b18cdeb04c0",
   "metadata": {},
   "outputs": [
    {
     "data": {
      "text/plain": [
       "array([[1., 2.],\n",
       "       [1., 1.]])"
      ]
     },
     "execution_count": 107,
     "metadata": {},
     "output_type": "execute_result"
    }
   ],
   "source": [
    "np.real(one)"
   ]
  },
  {
   "cell_type": "markdown",
   "id": "156502c5-a6f7-4364-94e3-280e52acd5a3",
   "metadata": {},
   "source": [
    "# 2. array operations"
   ]
  },
  {
   "cell_type": "code",
   "execution_count": 110,
   "id": "4bc1028f-56a9-47cc-99df-82cb557e163b",
   "metadata": {},
   "outputs": [],
   "source": [
    "x=[ [1 , 32, 5  ,23] , [45 ,34 ,32 ,3]  ,[ 6 , 7 ,8 ,2]]"
   ]
  },
  {
   "cell_type": "code",
   "execution_count": 111,
   "id": "7cb9bc70-3011-4caf-96da-95d36d408097",
   "metadata": {},
   "outputs": [],
   "source": [
    "y=[[4 , 6 ,2 ,32] , [8 ,35, 65,7] , [2 ,4 ,2 ,6]]"
   ]
  },
  {
   "cell_type": "code",
   "execution_count": 112,
   "id": "f6105fca-7ea4-4461-8af9-75da0c4c4857",
   "metadata": {},
   "outputs": [],
   "source": [
    "xar=np.array(x)"
   ]
  },
  {
   "cell_type": "code",
   "execution_count": 113,
   "id": "2cb3dc5f-875c-46da-9cd0-f7e8e4d7b976",
   "metadata": {},
   "outputs": [],
   "source": [
    "yar=np.array(y)"
   ]
  },
  {
   "cell_type": "code",
   "execution_count": 114,
   "id": "b2869cc2-8686-4935-b02b-2c2d45341544",
   "metadata": {},
   "outputs": [
    {
     "data": {
      "text/plain": [
       "array([[ 1, 32,  5, 23],\n",
       "       [45, 34, 32,  3],\n",
       "       [ 6,  7,  8,  2]])"
      ]
     },
     "execution_count": 114,
     "metadata": {},
     "output_type": "execute_result"
    }
   ],
   "source": [
    "xar"
   ]
  },
  {
   "cell_type": "code",
   "execution_count": 116,
   "id": "f41dc95c-4738-4836-94c4-261d2c2b4d74",
   "metadata": {},
   "outputs": [
    {
     "data": {
      "text/plain": [
       "array([[ 4,  6,  2, 32],\n",
       "       [ 8, 35, 65,  7],\n",
       "       [ 2,  4,  2,  6]])"
      ]
     },
     "execution_count": 116,
     "metadata": {},
     "output_type": "execute_result"
    }
   ],
   "source": [
    "yar"
   ]
  },
  {
   "cell_type": "code",
   "execution_count": 119,
   "id": "99077b64-6b4e-4ffb-8d11-c8be5f7d8c97",
   "metadata": {},
   "outputs": [
    {
     "data": {
      "text/plain": [
       "array([52, 73, 45, 28])"
      ]
     },
     "execution_count": 119,
     "metadata": {},
     "output_type": "execute_result"
    }
   ],
   "source": [
    "np.sum(x , axis=0)"
   ]
  },
  {
   "cell_type": "code",
   "execution_count": 120,
   "id": "cc34cd5b-9ac4-4878-b112-273cd247c8cb",
   "metadata": {},
   "outputs": [
    {
     "data": {
      "text/plain": [
       "array([[ 5, 38,  7, 55],\n",
       "       [53, 69, 97, 10],\n",
       "       [ 8, 11, 10,  8]])"
      ]
     },
     "execution_count": 120,
     "metadata": {},
     "output_type": "execute_result"
    }
   ],
   "source": [
    "xar+yar"
   ]
  },
  {
   "cell_type": "code",
   "execution_count": 121,
   "id": "400ccba5-e013-4446-9a6c-7877063407e4",
   "metadata": {},
   "outputs": [
    {
     "data": {
      "text/plain": [
       "16.5"
      ]
     },
     "execution_count": 121,
     "metadata": {},
     "output_type": "execute_result"
    }
   ],
   "source": [
    "np.mean(xar)"
   ]
  },
  {
   "cell_type": "code",
   "execution_count": 122,
   "id": "a2b3c014-3934-4821-b75a-b7ec0518164a",
   "metadata": {},
   "outputs": [
    {
     "data": {
      "text/plain": [
       "16.5"
      ]
     },
     "execution_count": 122,
     "metadata": {},
     "output_type": "execute_result"
    }
   ],
   "source": [
    "np.mean(x)"
   ]
  },
  {
   "cell_type": "code",
   "execution_count": 123,
   "id": "f6ae2ca7-8f77-4629-a6f0-ac848b67f097",
   "metadata": {},
   "outputs": [
    {
     "data": {
      "text/plain": [
       "14.416666666666666"
      ]
     },
     "execution_count": 123,
     "metadata": {},
     "output_type": "execute_result"
    }
   ],
   "source": [
    "np.mean(yar)"
   ]
  },
  {
   "cell_type": "code",
   "execution_count": 124,
   "id": "62013df9-be77-449e-bcb6-3d0ac10a6a79",
   "metadata": {},
   "outputs": [
    {
     "data": {
      "text/plain": [
       "45"
      ]
     },
     "execution_count": 124,
     "metadata": {},
     "output_type": "execute_result"
    }
   ],
   "source": [
    "np.max(xar)"
   ]
  },
  {
   "cell_type": "code",
   "execution_count": 125,
   "id": "8fa0a1df-eabe-4e8f-9b92-27b5a870da76",
   "metadata": {},
   "outputs": [
    {
     "data": {
      "text/plain": [
       "14.416666666666666"
      ]
     },
     "execution_count": 125,
     "metadata": {},
     "output_type": "execute_result"
    }
   ],
   "source": [
    "np.mean(yar)"
   ]
  },
  {
   "cell_type": "code",
   "execution_count": 126,
   "id": "5eea843b-4ed8-450e-927a-76b25403a966",
   "metadata": {},
   "outputs": [
    {
     "data": {
      "text/plain": [
       "array([[ 1, 32,  5, 23],\n",
       "       [45, 34, 32,  3],\n",
       "       [ 6,  7,  8,  2]])"
      ]
     },
     "execution_count": 126,
     "metadata": {},
     "output_type": "execute_result"
    }
   ],
   "source": [
    "xar"
   ]
  },
  {
   "cell_type": "code",
   "execution_count": 127,
   "id": "fc62f3aa-0d14-4a9f-8b7a-a7664b2f52d7",
   "metadata": {},
   "outputs": [
    {
     "data": {
      "text/plain": [
       "array([[ 4,  6,  2, 32],\n",
       "       [ 8, 35, 65,  7],\n",
       "       [ 2,  4,  2,  6]])"
      ]
     },
     "execution_count": 127,
     "metadata": {},
     "output_type": "execute_result"
    }
   ],
   "source": [
    "yar"
   ]
  },
  {
   "cell_type": "markdown",
   "id": "9feb4252-1911-425e-8f74-35d952685e2b",
   "metadata": {},
   "source": [
    "# 3.array manipulation"
   ]
  },
  {
   "cell_type": "code",
   "execution_count": 128,
   "id": "eff73319-e324-4262-a671-ebb98750a462",
   "metadata": {},
   "outputs": [
    {
     "data": {
      "text/plain": [
       "[[1, 32, 5, 23], [45, 34, 32, 3], [6, 7, 8, 2]]"
      ]
     },
     "execution_count": 128,
     "metadata": {},
     "output_type": "execute_result"
    }
   ],
   "source": [
    "x"
   ]
  },
  {
   "cell_type": "code",
   "execution_count": 129,
   "id": "184e6abe-6289-4592-a916-c3d465831aa2",
   "metadata": {},
   "outputs": [
    {
     "data": {
      "text/plain": [
       "[[4, 6, 2, 32], [8, 35, 65, 7], [2, 4, 2, 6]]"
      ]
     },
     "execution_count": 129,
     "metadata": {},
     "output_type": "execute_result"
    }
   ],
   "source": [
    "y"
   ]
  },
  {
   "cell_type": "code",
   "execution_count": 130,
   "id": "f29002d8-4b6a-4a65-8ee0-2e8b2ae95957",
   "metadata": {},
   "outputs": [
    {
     "data": {
      "text/plain": [
       "array([[ 1, 32,  5, 23],\n",
       "       [45, 34, 32,  3],\n",
       "       [ 6,  7,  8,  2]])"
      ]
     },
     "execution_count": 130,
     "metadata": {},
     "output_type": "execute_result"
    }
   ],
   "source": [
    "xar"
   ]
  },
  {
   "cell_type": "code",
   "execution_count": 131,
   "id": "4c4ad6bd-3181-4b18-8cef-d41629fb5784",
   "metadata": {},
   "outputs": [
    {
     "data": {
      "text/plain": [
       "array([[ 4,  6,  2, 32],\n",
       "       [ 8, 35, 65,  7],\n",
       "       [ 2,  4,  2,  6]])"
      ]
     },
     "execution_count": 131,
     "metadata": {},
     "output_type": "execute_result"
    }
   ],
   "source": [
    "yar"
   ]
  },
  {
   "cell_type": "code",
   "execution_count": 145,
   "id": "ac5096cb-2fb9-4794-9a1d-f1f1a6509db3",
   "metadata": {},
   "outputs": [],
   "source": [
    "con=np.concatenate((xar , yar), axis=0)"
   ]
  },
  {
   "cell_type": "code",
   "execution_count": 146,
   "id": "80c6065b-5202-45e7-9b30-5b8060e7e64d",
   "metadata": {},
   "outputs": [
    {
     "data": {
      "text/plain": [
       "array([[ 1, 32,  5, 23],\n",
       "       [45, 34, 32,  3],\n",
       "       [ 6,  7,  8,  2],\n",
       "       [ 4,  6,  2, 32],\n",
       "       [ 8, 35, 65,  7],\n",
       "       [ 2,  4,  2,  6]])"
      ]
     },
     "execution_count": 146,
     "metadata": {},
     "output_type": "execute_result"
    }
   ],
   "source": [
    "con"
   ]
  },
  {
   "cell_type": "code",
   "execution_count": 148,
   "id": "7ddd05d4-996f-49d7-b1db-925ac86d759f",
   "metadata": {},
   "outputs": [
    {
     "data": {
      "text/plain": [
       "24"
      ]
     },
     "execution_count": 148,
     "metadata": {},
     "output_type": "execute_result"
    }
   ],
   "source": [
    "np.size(con)"
   ]
  },
  {
   "cell_type": "code",
   "execution_count": 153,
   "id": "4a1801e6-4035-4cae-91ec-13befc341360",
   "metadata": {},
   "outputs": [
    {
     "data": {
      "text/plain": [
       "array([[ 1, 32,  5, 23, 45, 34, 32,  3,  6,  7,  8,  2],\n",
       "       [ 4,  6,  2, 32,  8, 35, 65,  7,  2,  4,  2,  6]])"
      ]
     },
     "execution_count": 153,
     "metadata": {},
     "output_type": "execute_result"
    }
   ],
   "source": [
    "con.reshape(2 , 12)"
   ]
  },
  {
   "cell_type": "code",
   "execution_count": 154,
   "id": "db28742f-ccf8-40fa-a149-eee34f18c47d",
   "metadata": {},
   "outputs": [],
   "source": [
    "a=np.arange(10)"
   ]
  },
  {
   "cell_type": "code",
   "execution_count": 171,
   "id": "af774fc7-a1a5-43f5-b046-2191bbe7de07",
   "metadata": {},
   "outputs": [
    {
     "data": {
      "text/plain": [
       "[array([0, 1, 2]), array([3, 4, 5, 6, 7]), array([8, 9])]"
      ]
     },
     "execution_count": 171,
     "metadata": {},
     "output_type": "execute_result"
    }
   ],
   "source": [
    "np.split(a  ,[3 , 8])"
   ]
  },
  {
   "cell_type": "markdown",
   "id": "27c6243d-b2c9-4aa2-905e-26ae1d67badb",
   "metadata": {},
   "source": [
    "<em> 0 dekin 3 samman euta ani 3 dekhin arko  ani 8 dekhin arko </em>"
   ]
  },
  {
   "cell_type": "markdown",
   "id": "6ab6d17f-e4de-448a-8891-2e5ddefa667e",
   "metadata": {},
   "source": [
    "<em>deko number dkhin arko banauxa </em>"
   ]
  },
  {
   "cell_type": "code",
   "execution_count": 173,
   "id": "c887e6b5-1d14-4370-a172-aac2a0ccfa79",
   "metadata": {},
   "outputs": [
    {
     "data": {
      "text/plain": [
       "array([[ 1, 32,  5, 23],\n",
       "       [45, 34, 32,  3],\n",
       "       [ 6,  7,  8,  2]])"
      ]
     },
     "execution_count": 173,
     "metadata": {},
     "output_type": "execute_result"
    }
   ],
   "source": [
    "xar"
   ]
  },
  {
   "cell_type": "code",
   "execution_count": 174,
   "id": "975d5678-032d-408f-a8ae-3092ad17d092",
   "metadata": {},
   "outputs": [
    {
     "data": {
      "text/plain": [
       "array([[ 4,  6,  2, 32],\n",
       "       [ 8, 35, 65,  7],\n",
       "       [ 2,  4,  2,  6]])"
      ]
     },
     "execution_count": 174,
     "metadata": {},
     "output_type": "execute_result"
    }
   ],
   "source": [
    "yar"
   ]
  },
  {
   "cell_type": "code",
   "execution_count": 175,
   "id": "610b1507-b124-4195-895d-871f1fc905f9",
   "metadata": {},
   "outputs": [
    {
     "data": {
      "text/plain": [
       "array([[ 1, 45,  6],\n",
       "       [32, 34,  7],\n",
       "       [ 5, 32,  8],\n",
       "       [23,  3,  2]])"
      ]
     },
     "execution_count": 175,
     "metadata": {},
     "output_type": "execute_result"
    }
   ],
   "source": [
    "xar.T"
   ]
  },
  {
   "cell_type": "markdown",
   "id": "908059d0-70f2-4258-9a72-738f3bf7129a",
   "metadata": {},
   "source": [
    "<em> trnspose convert row to column and column to row </em>"
   ]
  },
  {
   "cell_type": "code",
   "execution_count": 177,
   "id": "b9300e9b-972d-4fbd-a402-d779ced3e24f",
   "metadata": {},
   "outputs": [
    {
     "data": {
      "text/plain": [
       "array([[ 4,  8,  2],\n",
       "       [ 6, 35,  4],\n",
       "       [ 2, 65,  2],\n",
       "       [32,  7,  6]])"
      ]
     },
     "execution_count": 177,
     "metadata": {},
     "output_type": "execute_result"
    }
   ],
   "source": [
    "np.transpose(yar)"
   ]
  },
  {
   "cell_type": "code",
   "execution_count": 178,
   "id": "69db203b-535b-4430-82ff-72e1255233a6",
   "metadata": {},
   "outputs": [
    {
     "data": {
      "text/plain": [
       "array([[ 1, 32,  5, 23],\n",
       "       [45, 34, 32,  3],\n",
       "       [ 6,  7,  8,  2]])"
      ]
     },
     "execution_count": 178,
     "metadata": {},
     "output_type": "execute_result"
    }
   ],
   "source": [
    "xar"
   ]
  },
  {
   "cell_type": "code",
   "execution_count": 179,
   "id": "d0fdeaaa-d68a-4a32-9293-8d02b5117b6e",
   "metadata": {},
   "outputs": [
    {
     "data": {
      "text/plain": [
       "array([[ 4,  6,  2, 32],\n",
       "       [ 8, 35, 65,  7],\n",
       "       [ 2,  4,  2,  6]])"
      ]
     },
     "execution_count": 179,
     "metadata": {},
     "output_type": "execute_result"
    }
   ],
   "source": [
    "yar"
   ]
  },
  {
   "cell_type": "code",
   "execution_count": 183,
   "id": "1b4fd3d9-9a5c-4fb4-afa9-bd2e2cd7a6f9",
   "metadata": {},
   "outputs": [
    {
     "data": {
      "text/plain": [
       "array([[[ 1, 32,  5, 23],\n",
       "        [ 4,  6,  2, 32]],\n",
       "\n",
       "       [[45, 34, 32,  3],\n",
       "        [ 8, 35, 65,  7]],\n",
       "\n",
       "       [[ 6,  7,  8,  2],\n",
       "        [ 2,  4,  2,  6]]])"
      ]
     },
     "execution_count": 183,
     "metadata": {},
     "output_type": "execute_result"
    }
   ],
   "source": [
    "np.stack((xar , yar) , axis=1)"
   ]
  },
  {
   "cell_type": "code",
   "execution_count": 189,
   "id": "d1d946d6-da9f-43f6-9ce0-af9da309ea27",
   "metadata": {},
   "outputs": [
    {
     "data": {
      "text/plain": [
       "array([[[ 1, 32,  5, 23],\n",
       "        [45, 34, 32,  3],\n",
       "        [ 6,  7,  8,  2]],\n",
       "\n",
       "       [[ 4,  6,  2, 32],\n",
       "        [ 8, 35, 65,  7],\n",
       "        [ 2,  4,  2,  6]]])"
      ]
     },
     "execution_count": 189,
     "metadata": {},
     "output_type": "execute_result"
    }
   ],
   "source": [
    "np.stack((xar ,yar) , axis=0)"
   ]
  },
  {
   "cell_type": "code",
   "execution_count": 190,
   "id": "2e0d0ad6-64d5-4386-9813-de6ddac09ec7",
   "metadata": {},
   "outputs": [
    {
     "data": {
      "text/plain": [
       "array([[[ 1,  4],\n",
       "        [32,  6],\n",
       "        [ 5,  2],\n",
       "        [23, 32]],\n",
       "\n",
       "       [[45,  8],\n",
       "        [34, 35],\n",
       "        [32, 65],\n",
       "        [ 3,  7]],\n",
       "\n",
       "       [[ 6,  2],\n",
       "        [ 7,  4],\n",
       "        [ 8,  2],\n",
       "        [ 2,  6]]])"
      ]
     },
     "execution_count": 190,
     "metadata": {},
     "output_type": "execute_result"
    }
   ],
   "source": [
    "np.stack((xar , yar) , axis=-1)"
   ]
  },
  {
   "cell_type": "markdown",
   "id": "41dc6f11-4e30-4fb0-9d62-274ec9cfe4ba",
   "metadata": {},
   "source": [
    "# array iteration"
   ]
  },
  {
   "cell_type": "code",
   "execution_count": null,
   "id": "50cc1030-5002-42fe-bf47-c67f3949f18f",
   "metadata": {},
   "outputs": [],
   "source": []
  }
 ],
 "metadata": {
  "kernelspec": {
   "display_name": "Python 3 (ipykernel)",
   "language": "python",
   "name": "python3"
  },
  "language_info": {
   "codemirror_mode": {
    "name": "ipython",
    "version": 3
   },
   "file_extension": ".py",
   "mimetype": "text/x-python",
   "name": "python",
   "nbconvert_exporter": "python",
   "pygments_lexer": "ipython3",
   "version": "3.11.8"
  }
 },
 "nbformat": 4,
 "nbformat_minor": 5
}
