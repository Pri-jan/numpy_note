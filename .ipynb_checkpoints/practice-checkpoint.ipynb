{
 "cells": [
  {
   "cell_type": "markdown",
   "id": "ff56e227-3d87-4b9c-9a94-e74f4465c5ae",
   "metadata": {},
   "source": [
    "# practice\n"
   ]
  },
  {
   "cell_type": "code",
   "execution_count": 1,
   "id": "2d1cea5a-3dca-4b45-a129-5406aa6cd0cc",
   "metadata": {},
   "outputs": [],
   "source": [
    "import numpy as np\n"
   ]
  },
  {
   "cell_type": "code",
   "execution_count": 2,
   "id": "a638c08f-84aa-4ded-a6e5-8aae5c9a1e05",
   "metadata": {},
   "outputs": [],
   "source": [
    "array=np.array([1 ,2 ,3 ,4 ,5 , 6])"
   ]
  },
  {
   "cell_type": "code",
   "execution_count": 3,
   "id": "7fcc7774-0733-4043-8d93-2a2ca8ccd6ea",
   "metadata": {},
   "outputs": [
    {
     "data": {
      "text/plain": [
       "array([1, 2, 3, 4, 5, 6])"
      ]
     },
     "execution_count": 3,
     "metadata": {},
     "output_type": "execute_result"
    }
   ],
   "source": [
    "array"
   ]
  },
  {
   "cell_type": "markdown",
   "id": "175623bb-4f09-4b5f-b4a1-e6199fbccb97",
   "metadata": {},
   "source": [
    "# the more you practice the more you learn"
   ]
  },
  {
   "cell_type": "code",
   "execution_count": 9,
   "id": "85f8f195-4a41-4ffc-b6ab-069bf910b643",
   "metadata": {},
   "outputs": [],
   "source": [
    "array=np.array([[1 , 2 , 3 , 4] , [4 , 5 , 6 ,7] , [8 , 9 , 10 , 11  ]])\n"
   ]
  },
  {
   "cell_type": "code",
   "execution_count": 6,
   "id": "0fe11776-a810-4e93-9e66-93f8a276ad87",
   "metadata": {},
   "outputs": [
    {
     "data": {
      "text/plain": [
       "array([[ 1,  2,  3,  4],\n",
       "       [ 4,  5,  6,  7],\n",
       "       [ 8,  9, 10, 11]])"
      ]
     },
     "execution_count": 6,
     "metadata": {},
     "output_type": "execute_result"
    }
   ],
   "source": [
    "array"
   ]
  },
  {
   "cell_type": "code",
   "execution_count": 7,
   "id": "95fcf0b5-b225-41ae-b31d-08115b4e67b6",
   "metadata": {},
   "outputs": [
    {
     "data": {
      "text/plain": [
       "(3, 4)"
      ]
     },
     "execution_count": 7,
     "metadata": {},
     "output_type": "execute_result"
    }
   ],
   "source": [
    "array.shape\n"
   ]
  },
  {
   "cell_type": "code",
   "execution_count": 10,
   "id": "ee4c12af-d3da-44a1-857d-bc112b72037e",
   "metadata": {},
   "outputs": [
    {
     "data": {
      "text/plain": [
       "12"
      ]
     },
     "execution_count": 10,
     "metadata": {},
     "output_type": "execute_result"
    }
   ],
   "source": [
    "array.size\n"
   ]
  },
  {
   "cell_type": "code",
   "execution_count": 11,
   "id": "a660b570-430f-4ea6-9d00-823f4e8bff71",
   "metadata": {},
   "outputs": [
    {
     "data": {
      "text/plain": [
       "dtype('int32')"
      ]
     },
     "execution_count": 11,
     "metadata": {},
     "output_type": "execute_result"
    }
   ],
   "source": [
    "array.dtype\n"
   ]
  },
  {
   "cell_type": "code",
   "execution_count": 12,
   "id": "8e059ed5-86b5-4005-8ccb-31f10ce6b108",
   "metadata": {},
   "outputs": [],
   "source": [
    "list_arr=np.arange(5 , 39)"
   ]
  },
  {
   "cell_type": "code",
   "execution_count": 13,
   "id": "c623c079-1c51-44bc-8e1a-af211e035a99",
   "metadata": {},
   "outputs": [
    {
     "data": {
      "text/plain": [
       "array([ 5,  6,  7,  8,  9, 10, 11, 12, 13, 14, 15, 16, 17, 18, 19, 20, 21,\n",
       "       22, 23, 24, 25, 26, 27, 28, 29, 30, 31, 32, 33, 34, 35, 36, 37, 38])"
      ]
     },
     "execution_count": 13,
     "metadata": {},
     "output_type": "execute_result"
    }
   ],
   "source": [
    "list_arr"
   ]
  },
  {
   "cell_type": "code",
   "execution_count": 15,
   "id": "6725b911-1405-4ed4-b40d-f464e1bc410a",
   "metadata": {},
   "outputs": [],
   "source": [
    "hero=np.zeros((3 , 4))"
   ]
  },
  {
   "cell_type": "code",
   "execution_count": 16,
   "id": "b0f74c2f-424f-42b3-8df6-36ede00ad19e",
   "metadata": {},
   "outputs": [
    {
     "data": {
      "text/plain": [
       "array([[0., 0., 0., 0.],\n",
       "       [0., 0., 0., 0.],\n",
       "       [0., 0., 0., 0.]])"
      ]
     },
     "execution_count": 16,
     "metadata": {},
     "output_type": "execute_result"
    }
   ],
   "source": [
    "hero\n"
   ]
  },
  {
   "cell_type": "code",
   "execution_count": 23,
   "id": "ed2d940d-02b7-42d4-816b-ae29d7b071ee",
   "metadata": {},
   "outputs": [],
   "source": [
    "emp=np.empty((3 , 4))"
   ]
  },
  {
   "cell_type": "code",
   "execution_count": 24,
   "id": "a2fcd53f-8f32-4936-bd49-81a46b71080a",
   "metadata": {},
   "outputs": [],
   "source": [
    "emp[0,3]=45\n"
   ]
  },
  {
   "cell_type": "code",
   "execution_count": 28,
   "id": "eef50661-88c4-4b45-aea0-b93965daa375",
   "metadata": {},
   "outputs": [
    {
     "data": {
      "text/plain": [
       "array([[ 0.,  0.,  0., 45.],\n",
       "       [ 0.,  0.,  0.,  0.],\n",
       "       [ 0.,  0.,  0.,  0.]])"
      ]
     },
     "execution_count": 28,
     "metadata": {},
     "output_type": "execute_result"
    }
   ],
   "source": [
    "emp"
   ]
  },
  {
   "cell_type": "code",
   "execution_count": null,
   "id": "ffd581bb-73ad-4477-8294-81a1b51ed175",
   "metadata": {},
   "outputs": [],
   "source": []
  }
 ],
 "metadata": {
  "kernelspec": {
   "display_name": "Python 3 (ipykernel)",
   "language": "python",
   "name": "python3"
  },
  "language_info": {
   "codemirror_mode": {
    "name": "ipython",
    "version": 3
   },
   "file_extension": ".py",
   "mimetype": "text/x-python",
   "name": "python",
   "nbconvert_exporter": "python",
   "pygments_lexer": "ipython3",
   "version": "3.11.8"
  }
 },
 "nbformat": 4,
 "nbformat_minor": 5
}
